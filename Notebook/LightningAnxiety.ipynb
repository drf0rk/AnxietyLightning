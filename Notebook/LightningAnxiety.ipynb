{
  "cells": [
    {
      "cell_type": "markdown",
      "id": "4731600d-b776-48c4-88e0-8c20295abf71",
      "metadata": {
        "id": "4731600d-b776-48c4-88e0-8c20295abf71"
      },
      "source": [
        "1. Setup Environment 🔽\n",
        "\n",
        "This cell downloads the initial setup.py script from your fork and then executes it, instructing the setup process to pull all subsequent project files from your repository."
      ]
    },
    {
      "cell_type": "code",
      "execution_count": null,
      "id": "fa348b8d-7e1e-48b4-b5d7-f1b336a708a9",
      "metadata": {
        "cellView": "form",
        "id": "fa348b8d-7e1e-48b4-b5d7-f1b336a708a9"
      },
      "outputs": [],
      "source": [
        "# @title 1. Setup Environment (Final Path Correction)\n",
        "import os\n",
        "import sys\n",
        "from pathlib import Path\n",
        "\n",
        "# --- DYNAMIC PLATFORM DETECTION & PATH SETUP ---\n",
        "# This logic ensures the notebook and the scripts it runs agree on the correct home directory.\n",
        "def get_platform_home():\n",
        "    \"\"\"Determines the correct project HOME based on the runtime environment.\"\"\"\n",
        "    if 'google.colab' in sys.modules:\n",
        "        print(\"Platform: Google Colab\")\n",
        "        return Path('/content')\n",
        "    if os.path.exists('/kaggle'):\n",
        "        print(\"Platform: Kaggle\")\n",
        "        return Path('/kaggle/working')\n",
        "    if os.environ.get('LIGHTNING_AI') or os.path.exists('/teamspace'):\n",
        "        print(\"Platform: Lightning AI\")\n",
        "        base_path = Path('/teamspace/studios/this_studio')\n",
        "        if not base_path.exists():\n",
        "            base_path = Path.home() / 'workspace'\n",
        "        return base_path\n",
        "    # Fallback for local or unrecognized environments\n",
        "    print(\"Platform: Local / Unknown\")\n",
        "    return Path.cwd()\n",
        "\n",
        "# Define the single source of truth for the project's home directory for this entire session\n",
        "PROJECT_HOME = get_platform_home()\n",
        "print(f\"✅ Project HOME directory set to: {PROJECT_HOME}\")\n",
        "\n",
        "# --- Configuration ---\n",
        "lang = 'en'\n",
        "branch = 'main'\n",
        "fork_repo = 'drf0rk/AnxietyLightning'\n",
        "\n",
        "# --- Script Execution ---\n",
        "anxety_path = PROJECT_HOME / 'ANXETY'\n",
        "scripts_dir_temp = anxety_path / 'scripts'\n",
        "setup_script_path = scripts_dir_temp / 'setup.py'\n",
        "\n",
        "os.makedirs(scripts_dir_temp, exist_ok=True)\n",
        "\n",
        "setup_url = f'https://raw.githubusercontent.com/{fork_repo}/{branch}/scripts/setup.py'\n",
        "print(f\"🔄 Downloading setup script from {fork_repo}...\")\n",
        "!curl -sLo {setup_script_path} {setup_url}\n",
        "print(\"✅ Setup script downloaded.\")\n",
        "\n",
        "# Run the setup script to detect the platform and create settings.json\n",
        "%run {setup_script_path} --lang={lang} --branch={branch} --fork={fork_repo}\n",
        "\n",
        "# --- Set Definitive Paths for Subsequent Cells ---\n",
        "print(\"\\n✅ Setting up definitive paths for the notebook session...\")\n",
        "modules_path = anxety_path / 'modules'\n",
        "if str(modules_path) not in sys.path:\n",
        "    sys.path.insert(0, str(modules_path))\n",
        "\n",
        "import json_utils as js\n",
        "settings_path = anxety_path / 'settings.json'\n",
        "\n",
        "# --- THIS IS THE CORRECTED LOGIC ---\n",
        "# Read the base 'scr_path' (e.g., /content/ANXETY) and then append '/scripts' to it.\n",
        "base_scr_path = Path(js.read(settings_path, 'ENVIRONMENT.scr_path'))\n",
        "scripts_dir = base_scr_path / 'scripts'\n",
        "# --- END CORRECTION ---\n",
        "\n",
        "print(f\"✔️ Scripts directory for this session is set to: {scripts_dir}\")"
      ]
    },
    {
      "cell_type": "markdown",
      "id": "6d2b405e-8fb7-497a-8f15-de2b6e5d91a9",
      "metadata": {
        "id": "6d2b405e-8fb7-497a-8f15-de2b6e5d91a9"
      },
      "source": [
        "2. Widgets 🔽\n",
        "\n",
        "This cell will load the interactive widgets. Since setup.py (executed in the previous cell) has already downloaded the patched widgets-en.py (or widgets-ru.py) to scripts_dir, this command will now use your modified version with the LoRA dropdown."
      ]
    },
    {
      "cell_type": "code",
      "execution_count": null,
      "id": "3ffca5a8-6603-4463-b057-f3a6b41a9ae1",
      "metadata": {
        "cellView": "form",
        "id": "3ffca5a8-6603-4463-b057-f3a6b41a9ae1"
      },
      "outputs": [],
      "source": [
        "# @title 2. Widgets\n",
        "# This cell uses the 'scripts_dir' and 'lang' variables that were correctly defined in Cell 1.\n",
        "\n",
        "# The f-string constructs the full path to the script.\n",
        "# We print the path first for easy debugging to ensure it's correct.\n",
        "run_path = f\"{scripts_dir}/{lang}/widgets-{lang}.py\"\n",
        "\n",
        "print(f\"✅ Attempting to run script from: {run_path}\")\n",
        "%run {run_path}"
      ]
    },
    {
      "cell_type": "markdown",
      "id": "a538fedf-c7b8-478b-8cfd-3a68ee8bd743",
      "metadata": {
        "id": "a538fedf-c7b8-478b-8cfd-3a68ee8bd743"
      },
      "source": [
        "3. Downloading 🔽\n",
        "\n",
        "This cell initiates the downloading process for models, VAEs, extensions, and other necessary components. It will use the patched downloading-en.py (or downloading-ru.py) from your fork, ensuring downloads go to your centralized model storage location."
      ]
    },
    {
      "cell_type": "code",
      "execution_count": null,
      "id": "456ba90a-3a39-49d1-bd97-6ad4967ef838",
      "metadata": {
        "cellView": "form",
        "id": "456ba90a-3a39-49d1-bd97-6ad4967ef838"
      },
      "outputs": [],
      "source": [
        "# @title 3. Downloading\n",
        "# This cell uses the 'scripts_dir' and 'lang' variables defined in Cell 1.\n",
        "\n",
        "# The f-string constructs the full path to the script.\n",
        "# We print the path first for easy debugging.\n",
        "run_path = f\"{scripts_dir}/{lang}/downloading-{lang}.py\"\n",
        "\n",
        "print(f\"✅ Attempting to run script from: {run_path}\")\n",
        "%run {run_path}"
      ]
    },
    {
      "cell_type": "markdown",
      "id": "09187f0b-5108-4ec9-b251-d4bff537d110",
      "metadata": {
        "id": "09187f0b-5108-4ec9-b251-d4bff537d110"
      },
      "source": [
        "4. Start 🔽\n",
        "\n",
        "This cell launches the Stable Diffusion WebUI. It will execute the patched launch.py script from your fork, applying any platform-specific optimizations and arguments you've included."
      ]
    },
    {
      "cell_type": "code",
      "execution_count": null,
      "id": "35260036-3430-453d-8244-d81ccea04b32",
      "metadata": {
        "cellView": "form",
        "id": "35260036-3430-453d-8244-d81ccea04b32"
      },
      "outputs": [],
      "source": [
        "# @title 4. Start (Corrected Path Logic)\n",
        "from pathlib import Path\n",
        "import sys\n",
        "\n",
        "# Add the modules path to ensure json_utils can be imported\n",
        "anxety_path = Path.home() / 'ANXETY'\n",
        "modules_path = anxety_path / 'modules'\n",
        "if str(modules_path) not in sys.path:\n",
        "    sys.path.insert(0, str(modules_path))\n",
        "\n",
        "import json_utils as js\n",
        "\n",
        "# Read the correct scripts_dir path that was saved by setup.py\n",
        "settings_path = anxety_path / 'settings.json'\n",
        "scripts_dir = Path(js.read(settings_path, 'ENVIRONMENT.scr_path'))\n",
        "\n",
        "print(f\"✅ Running launch script from: {scripts_dir}\")\n",
        "# Launch the WebUI. The -l flag provides more detailed logging for tunnels.\n",
        "%run {scripts_dir}/launch.py -l"
      ]
    },
    {
      "cell_type": "markdown",
      "id": "b83974dc-0f5f-4a5b-8d52-3361c74a9458",
      "metadata": {
        "id": "b83974dc-0f5f-4a5b-8d52-3361c74a9458"
      },
      "source": [
        "Utilities\n",
        "5. Run Cleanup Utility 🔽\n",
        "\n",
        "This cell runs the new Cleanup Utility GUI script, allowing you to manage your environment. This script is downloaded from your fork via the initial setup."
      ]
    },
    {
      "cell_type": "code",
      "execution_count": null,
      "id": "5896fe1b-7db1-40a6-a0a5-1779a53248c4",
      "metadata": {
        "cellView": "form",
        "id": "5896fe1b-7db1-40a6-a0a5-1779a53248c4"
      },
      "outputs": [],
      "source": [
        "# @title 5. Run Cleanup Utility\n",
        "\n",
        "from pathlib import Path\n",
        "\n",
        "# This cell is now platform-agnostic.\n",
        "scripts_dir = Path.home() / 'ANXETY' / 'scripts'\n",
        "\n",
        "# Run the cleanup utility GUI\n",
        "%run {scripts_dir}/auto-cleaner.py"
      ]
    },
    {
      "cell_type": "code",
      "execution_count": null,
      "id": "f8a56c35-0d86-4826-a5c7-ba901a5708e9",
      "metadata": {
        "id": "f8a56c35-0d86-4826-a5c7-ba901a5708e9"
      },
      "outputs": [],
      "source": [
        "from pathlib import Path\n",
        "import shutil\n",
        "import os\n",
        "import sys\n",
        "\n",
        "# --- Start of Directory Management ---\n",
        "BASE_DIR = Path(\"/teamspace/studios/this_studio\")\n",
        "if os.getcwd() != str(BASE_DIR):\n",
        "    print(f\"🔄 Changing directory from {os.getcwd()} to {BASE_DIR}\")\n",
        "    os.chdir(BASE_DIR)\n",
        "# --- End of Directory Management ---\n",
        "\n",
        "# --- VERY IMPORTANT WARNING ---\n",
        "# This cell will DELETE almost everything in your Lightning AI instance.\n",
        "# It will only preserve this notebook file and 'main.py'.\n",
        "# Ensure you understand what is being deleted before running.\n",
        "# This operation is IRREVERSIBLE.\n",
        "\n",
        "print(\"!!! DANGER: YOU ARE ABOUT TO DELETE ALMOST ALL FILES !!!\")\n",
        "print(\"!!! PLEASE READ CAREFULLY BEFORE PROCEEDING !!!\")\n",
        "print(\"\\nThis cell will delete all folders and files in your current studio instance, EXCEPT:\")\n",
        "print(\" - This notebook file (e.g., 'LightningAnxiety (1) (1) (2).ipynb')\")\n",
        "print(\" - The 'main.py' file (if it exists in the root)\")\n",
        "print(\"\\nTHIS WILL REQUIRE YOU TO RERUN THE ENTIRE NOTEBOOK FROM THE FIRST CELL FOR A FRESH START.\")\n",
        "print(\"If you have any custom files you wish to keep, MOVE THEM OUTSIDE THIS STUDIO INSTANCE NOW.\")\n",
        "print(\"Proceed only if you want a completely blank studio environment.\")\n",
        "print(\"\\nType 'YES_DELETE_ALL' (case-sensitive) to confirm deletion and execute, then press Enter.\")\n",
        "print(\"Anything else will abort the operation.\")\n",
        "\n",
        "confirmation = input(\"Confirmation: \")\n",
        "\n",
        "if confirmation.strip() == \"YES_DELETE_ALL\": # Case-sensitive comparison\n",
        "    # Get the home/studio path\n",
        "    # On Lightning AI, this is typically /teamspace/studios/this_studio\n",
        "    HOME_PATH = Path.home()\n",
        "\n",
        "    # Get the current notebook's filename\n",
        "    # Use a more robust way to find the notebook file name, as __file__ is not always reliable in notebooks\n",
        "    notebook_filename = \"LightningAnxiety (1) (1) (2).ipynb\" # Explicitly set your notebook filename here for reliability\n",
        "    notebook_path = HOME_PATH / notebook_filename\n",
        "\n",
        "    main_py_path = HOME_PATH / \"main.py\"\n",
        "\n",
        "    # Define items to EXCLUDE from deletion\n",
        "    EXCLUDE_LIST = [\n",
        "        notebook_path,\n",
        "        main_py_path\n",
        "    ]\n",
        "\n",
        "    print(f\"\\n--- Starting Comprehensive Deletion in {HOME_PATH} ---\")\n",
        "    deleted_count = 0\n",
        "    skipped_count = 0\n",
        "\n",
        "    for item in HOME_PATH.iterdir():\n",
        "        # Convert item to absolute path for consistent comparison with EXCLUDE_LIST\n",
        "        abs_item = item.resolve()\n",
        "        if abs_item in EXCLUDE_LIST:\n",
        "            print(f\"ℹ️ Skipping protected item: {item.name}\")\n",
        "            skipped_count += 1\n",
        "            continue\n",
        "\n",
        "        print(f\"🗑️ Attempting to delete: {item.name} ({item})...\")\n",
        "        try:\n",
        "            if item.is_dir():\n",
        "                shutil.rmtree(item)\n",
        "            else:\n",
        "                item.unlink() # Delete file\n",
        "            print(f\"✅ Successfully deleted: {item.name}\")\n",
        "            deleted_count += 1\n",
        "        except Exception as e:\n",
        "            print(f\"❌ Error deleting {item.name} ({item}): {e}\")\n",
        "\n",
        "    print(\"\\n--- Comprehensive Cleanup Process Complete ---\")\n",
        "    print(f\"Summary: {deleted_count} items deleted, {skipped_count} items skipped (protected).\")\n",
        "    print(\"Please restart your runtime and run the notebook from the first cell for a fresh start.\")\n",
        "else:\n",
        "    print(\"\\nOperation aborted. No folders were deleted.\\n\")\n",
        "\n",
        "# --- Ensure we are back in BASE_DIR at the end of the cell ---\n",
        "if os.getcwd() != str(BASE_DIR):\n",
        "    os.chdir(BASE_DIR)\n",
        "# --- End of Directory Management ---\n"
      ]
    },
    {
      "cell_type": "code",
      "execution_count": null,
      "id": "60190e9e-4d90-47ff-804f-6efeb6c1ad6a",
      "metadata": {
        "id": "60190e9e-4d90-47ff-804f-6efeb6c1ad6a"
      },
      "outputs": [],
      "source": []
    }
  ],
  "metadata": {
    "kernelspec": {
      "display_name": "base",
      "language": "python",
      "name": "python3"
    },
    "language_info": {
      "codemirror_mode": {
        "name": "ipython",
        "version": 3
      },
      "file_extension": ".py",
      "mimetype": "text/x-python",
      "name": "python",
      "nbconvert_exporter": "python",
      "pygments_lexer": "ipython3",
      "version": "3.10.14"
    },
    "colab": {
      "provenance": []
    }
  },
  "nbformat": 4,
  "nbformat_minor": 5
}