{
  "nbformat": 4,
  "nbformat_minor": 0,
  "metadata": {
    "colab": {
      "provenance": [],
      "gpuType": "T4"
    },
    "kernelspec": {
      "name": "python3",
      "display_name": "Python 3"
    },
    "language_info": {
      "name": "python"
    }
  },
  "cells": [
    {
      "cell_type": "code",
      "source": [
        "# @title Launch AnxietyLightning (v30.0 - Thin Launcher)\n",
        "# @markdown This cell downloads and runs the latest version of the project scripts from GitHub.\n",
        "# @markdown All logic is handled by the backend scripts, ensuring you're always up-to-date.\n",
        "NGROK_TOKEN = \"\" #@param {type:\"string\"}\n",
        "\n",
        "import os\n",
        "\n",
        "os.environ['NGROK_TOKEN'] = NGROK_TOKEN\n",
        "bootstrap_url = \"https://raw.githubusercontent.com/drf0rk/AnxietyLightning/main/scripts/_bootstrap.py\"\n",
        "\n",
        "!curl -sL {bootstrap_url} | python"
      ],
      "metadata": {
        "id": "eSnxG5xOmZWR",
        "cellView": "form"
      },
      "execution_count": null,
      "outputs": []
    }
  ]
}